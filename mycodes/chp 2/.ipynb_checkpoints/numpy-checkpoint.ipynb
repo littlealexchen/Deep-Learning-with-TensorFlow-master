{
 "cells": [
  {
   "cell_type": "code",
   "execution_count": 9,
   "metadata": {},
   "outputs": [],
   "source": [
    "import tensorflow as tf\n",
    "import numpy as np"
   ]
  },
  {
   "cell_type": "code",
   "execution_count": 7,
   "metadata": {},
   "outputs": [
    {
     "name": "stdout",
     "output_type": "stream",
     "text": [
      "[209.99998]\n"
     ]
    }
   ],
   "source": [
    "with tf.Session() as session:\n",
    "    x = tf.placeholder(tf.float32, [1], name='x')\n",
    "    y = tf.placeholder(tf.float32, [1], name='y')\n",
    "    z = tf.constant(2.1)\n",
    "    y = x * z\n",
    "    x_in = [100]\n",
    "    y_output = session.run(y, {x:x_in})\n",
    "    print(y_output)"
   ]
  },
  {
   "cell_type": "code",
   "execution_count": 10,
   "metadata": {},
   "outputs": [
    {
     "name": "stdout",
     "output_type": "stream",
     "text": [
      "WARNING:tensorflow:From F:\\LOVE_SPACE\\Anaconda3\\lib\\site-packages\\tensorflow\\python\\framework\\op_def_library.py:263: colocate_with (from tensorflow.python.framework.ops) is deprecated and will be removed in a future version.\n",
      "Instructions for updating:\n",
      "Colocations handled automatically by placer.\n",
      "(3, 3)\n",
      "[[1 2 3]\n",
      " [4 5 6]\n",
      " [7 8 9]]\n"
     ]
    }
   ],
   "source": [
    "tensor_2d = np.array([(1,2,3), (4,5,6), (7,8,9)])\n",
    "tensor_2d = tf.Variable(tensor_2d)\n",
    "with tf.Session() as sess:\n",
    "    sess.run(tf.global_variables_initializer())\n",
    "    print(tensor_2d.get_shape())\n",
    "    print(sess.run(tensor_2d))"
   ]
  },
  {
   "cell_type": "code",
   "execution_count": 12,
   "metadata": {},
   "outputs": [
    {
     "name": "stdout",
     "output_type": "stream",
     "text": [
      "[1 2 3 4 5]\n"
     ]
    }
   ],
   "source": [
    "interactive_session = tf.InteractiveSession()\n",
    "tensor = np.array([1,2,3,4,5])\n",
    "tensor = tf.constant(tensor)\n",
    "print(tensor.eval())\n",
    "interactive_session.close()"
   ]
  },
  {
   "cell_type": "code",
   "execution_count": 16,
   "metadata": {},
   "outputs": [
    {
     "ename": "SyntaxError",
     "evalue": "invalid syntax (<ipython-input-16-eab9737e6a7a>, line 9)",
     "output_type": "error",
     "traceback": [
      "\u001b[1;36m  File \u001b[1;32m\"<ipython-input-16-eab9737e6a7a>\"\u001b[1;36m, line \u001b[1;32m9\u001b[0m\n\u001b[1;33m    for i in range(10):\u001b[0m\n\u001b[1;37m                      ^\u001b[0m\n\u001b[1;31mSyntaxError\u001b[0m\u001b[1;31m:\u001b[0m invalid syntax\n"
     ]
    }
   ],
   "source": [
    "value = tf.Variable(0, name='value')\n",
    "one = tf.constant(1)\n",
    "new_value = tf.add(value, one)\n",
    "update_value = tf.assign(value, new_value)\n",
    "\n",
    "with tf.Session() as sess:\n",
    "    sess.run(tf.global_variables_initializer())\n",
    "    print(sess.run(value)\n",
    "    for i in range(10):\n",
    "        sess.run(update_value)\n",
    "        print(sess.run(value))    "
   ]
  },
  {
   "cell_type": "code",
   "execution_count": null,
   "metadata": {},
   "outputs": [],
   "source": []
  }
 ],
 "metadata": {
  "kernelspec": {
   "display_name": "Python 3",
   "language": "python",
   "name": "python3"
  },
  "language_info": {
   "codemirror_mode": {
    "name": "ipython",
    "version": 3
   },
   "file_extension": ".py",
   "mimetype": "text/x-python",
   "name": "python",
   "nbconvert_exporter": "python",
   "pygments_lexer": "ipython3",
   "version": "3.7.3"
  }
 },
 "nbformat": 4,
 "nbformat_minor": 2
}
