{
 "cells": [
  {
   "cell_type": "code",
   "execution_count": 1,
   "metadata": {},
   "outputs": [],
   "source": [
    "import tensorflow as tf"
   ]
  },
  {
   "cell_type": "code",
   "execution_count": 4,
   "metadata": {},
   "outputs": [],
   "source": [
    "input_value = tf.constant(0.5, name='input_value')\n",
    "weight = tf.Variable(1.0, name='weight')\n",
    "expected_output = tf.constant(0.0, name='expected_output')\n",
    "model = tf.multiply(input_value, weight, 'model')\n",
    "loss_function = tf.pow(expected_output - model, 2, name='loss_function')\n",
    "optimizer = tf.train.GradientDescentOptimizer(0.025).minimize(loss_function)\n",
    "\n",
    "for value in [input_value, weight, expected_output, model, loss_function]:\n",
    "    tf.summary.scalar(value.op.name, value)\n",
    "summaries = tf.summary.merge_all()\n",
    "sess = tf.Session()\n",
    "summary_writer = tf.summary.FileWriter('log_simple_stats', sess.graph)\n",
    "sess.run(tf.global_variables_initializer())\n",
    "for i in range(100):\n",
    "    summary_writer.add_summary(sess.run(summaries), i)\n",
    "    sess.run(optimizer)"
   ]
  },
  {
   "cell_type": "code",
   "execution_count": 5,
   "metadata": {},
   "outputs": [],
   "source": [
    "import tensorflow as tf\n",
    "\n",
    "weight = tf.Variable(1.0, name=\"weight\")\n",
    "input_value = tf.constant(0.5, name=\"input_value\")\n",
    "expected_output = tf.constant(0.0, name=\"expected_output\")\n",
    "model = tf.multiply(input_value,weight, \"model\")\n",
    "loss_function = tf.pow(expected_output - model, 2, name=\"loss_function\")\n",
    "\n",
    "optimizer = tf.train.GradientDescentOptimizer(0.025).minimize(loss_function)\n",
    "\n",
    "for value in [input_value, weight, expected_output, model, loss_function]:\n",
    "    tf.summary.scalar(value.op.name, value)\n",
    "\n",
    "summaries = tf.summary.merge_all()\n",
    "sess = tf.Session()\n",
    "\n",
    "summary_writer = tf.summary.FileWriter('log_simple_stats', sess.graph)\n",
    "\n",
    "sess.run(tf.global_variables_initializer())\n",
    "\n",
    "for i in range(100):\n",
    "    summary_writer.add_summary(sess.run(summaries), i)\n",
    "    sess.run(optimizer)\n"
   ]
  },
  {
   "cell_type": "code",
   "execution_count": null,
   "metadata": {},
   "outputs": [],
   "source": []
  }
 ],
 "metadata": {
  "kernelspec": {
   "display_name": "Python 3",
   "language": "python",
   "name": "python3"
  },
  "language_info": {
   "codemirror_mode": {
    "name": "ipython",
    "version": 3
   },
   "file_extension": ".py",
   "mimetype": "text/x-python",
   "name": "python",
   "nbconvert_exporter": "python",
   "pygments_lexer": "ipython3",
   "version": "3.7.3"
  }
 },
 "nbformat": 4,
 "nbformat_minor": 2
}
